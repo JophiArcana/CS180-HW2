{
 "cells": [
  {
   "cell_type": "code",
   "execution_count": 1,
   "metadata": {
    "id": "QupgVmcZgvyx",
    "executionInfo": {
     "status": "ok",
     "timestamp": 1694854336765,
     "user_tz": 420,
     "elapsed": 5,
     "user": {
      "displayName": "Wentinn Liao",
      "userId": "16122904268462266963"
     }
    }
   },
   "outputs": [],
   "source": [
    "## Created by Wentinn Liao"
   ]
  },
  {
   "cell_type": "markdown",
   "metadata": {
    "id": "k722vkzdWafR"
   },
   "source": [
    "# CS180 Project 2"
   ]
  },
  {
   "cell_type": "code",
   "execution_count": null,
   "metadata": {
    "colab": {
     "base_uri": "https://localhost:8080/"
    },
    "executionInfo": {
     "elapsed": 5910,
     "status": "ok",
     "timestamp": 1694854342670,
     "user": {
      "displayName": "Wentinn Liao",
      "userId": "16122904268462266963"
     },
     "user_tz": 420
    },
    "id": "-h7SwLD3uWiC",
    "outputId": "ce503727-ba50-4356-8c0c-afa936c886c9",
    "pycharm": {
     "is_executing": true
    }
   },
   "outputs": [],
   "source": [
    "!pip install numpy imageio scikit-learn scikit-image torch pytorch-ignite opencv-python matplotlib mpl_interactions PyQt6"
   ]
  },
  {
   "cell_type": "code",
   "execution_count": null,
   "metadata": {
    "id": "S27iMYAOuWiB",
    "colab": {
     "base_uri": "https://localhost:8080/"
    },
    "executionInfo": {
     "status": "ok",
     "timestamp": 1694854345636,
     "user_tz": 420,
     "elapsed": 2972,
     "user": {
      "displayName": "Wentinn Liao",
      "userId": "16122904268462266963"
     }
    },
    "outputId": "49e57e38-9ee7-4787-dbfa-0b0b1323befb",
    "pycharm": {
     "is_executing": true
    }
   },
   "outputs": [],
   "source": [
    "#@title Mount Google Drive\n",
    "import os\n",
    "from google.colab import drive\n",
    "drive.mount('/content/gdrive', force_remount=True)"
   ]
  },
  {
   "cell_type": "code",
   "execution_count": 4,
   "metadata": {
    "id": "0xHh9PF6hl3R",
    "colab": {
     "base_uri": "https://localhost:8080/"
    },
    "executionInfo": {
     "status": "ok",
     "timestamp": 1694854345637,
     "user_tz": 420,
     "elapsed": 8,
     "user": {
      "displayName": "Wentinn Liao",
      "userId": "16122904268462266963"
     }
    },
    "outputId": "fd9363e1-5368-4737-fdad-b9e9541b6b10"
   },
   "outputs": [
    {
     "output_type": "stream",
     "name": "stdout",
     "text": [
      "/content/gdrive/My Drive/CS180/HW2\n"
     ]
    }
   ],
   "source": [
    "#@title Symlink Setup\n",
    "def ptpp(PATH: str) -> str: # Converts path to python path\n",
    "    return PATH.replace('\\\\', '')\n",
    "\n",
    "DRIVE_PATH = '/content/gdrive/My\\ Drive/CS180/HW2'\n",
    "if not os.path.exists(ptpp(DRIVE_PATH)):\n",
    "    %mkdir $DRIVE_PATH\n",
    "SYM_PATH = '/content/HW2'\n",
    "if not os.path.exists(ptpp(SYM_PATH)):\n",
    "    !ln -s $DRIVE_PATH $SYM_PATH\n",
    "%cd $SYM_PATH"
   ]
  },
  {
   "cell_type": "code",
   "source": [
    "import sys\n",
    "sys.path.append(ptpp(SYM_PATH) + '/code')"
   ],
   "metadata": {
    "id": "Bwj_HyAC2m3m",
    "executionInfo": {
     "status": "ok",
     "timestamp": 1694854345637,
     "user_tz": 420,
     "elapsed": 5,
     "user": {
      "displayName": "Wentinn Liao",
      "userId": "16122904268462266963"
     }
    }
   },
   "execution_count": 5,
   "outputs": []
  },
  {
   "cell_type": "code",
   "execution_count": 7,
   "metadata": {
    "id": "9pbdKYaruWiD",
    "executionInfo": {
     "status": "ok",
     "timestamp": 1694854345637,
     "user_tz": 420,
     "elapsed": 4,
     "user": {
      "displayName": "Wentinn Liao",
      "userId": "16122904268462266963"
     }
    }
   },
   "outputs": [],
   "source": [
    "#@title Configure Jupyter Notebook\n",
    "%load_ext autoreload\n",
    "%autoreload 2"
   ]
  },
  {
   "cell_type": "code",
   "execution_count": 8,
   "metadata": {
    "id": "uK2SmUy3uWiD",
    "executionInfo": {
     "status": "ok",
     "timestamp": 1694854354774,
     "user_tz": 420,
     "elapsed": 9141,
     "user": {
      "displayName": "Wentinn Liao",
      "userId": "16122904268462266963"
     }
    }
   },
   "outputs": [],
   "source": [
    "#@title Library Setup\n",
    "import math\n",
    "import numpy as np\n",
    "import scipy as sc\n",
    "import skimage as sk\n",
    "import skimage.io as skio\n",
    "import skimage.transform as sktr\n",
    "import cv2\n",
    "import random\n",
    "import torch\n",
    "\n",
    "seed = 7\n",
    "torch.manual_seed(seed)\n",
    "random.seed(seed)\n",
    "torch.set_default_dtype(torch.double)"
   ]
  },
  {
   "cell_type": "markdown",
   "metadata": {
    "id": "ySYoMZeqPL-T"
   },
   "source": [
    "# Implementation"
   ]
  },
  {
   "cell_type": "code",
   "execution_count": 9,
   "metadata": {
    "id": "ZrE7RRVs886O",
    "executionInfo": {
     "status": "ok",
     "timestamp": 1694854354775,
     "user_tz": 420,
     "elapsed": 28,
     "user": {
      "displayName": "Wentinn Liao",
      "userId": "16122904268462266963"
     }
    }
   },
   "outputs": [],
   "source": [
    "#@title Utilities\n",
    "def read_image(imname: str) -> np.ndarray:\n",
    "    # read in the image\n",
    "    im = skio.imread(imname)\n",
    "\n",
    "    # convert to double (might want to do this later on to save memory)\n",
    "    im = sk.util.img_as_float(im)\n",
    "    return im\n",
    "\n",
    "def im_to_uint8(im: np.ndarray) -> np.ndarray:\n",
    "    return np.floor(256 * im).astype('u1')\n",
    "\n",
    "def im_rescale(im):\n",
    "    lo = np.min(im)\n",
    "    hi = np.max(im)\n",
    "    return (im - lo) / (hi - lo)\n",
    "\n",
    "def im_saturate(im):\n",
    "    return np.stack([im_rescale(im[:, :, c]) for c in range(im.shape[2])], axis=2)"
   ]
  },
  {
   "cell_type": "markdown",
   "source": [
    "# Part 1: Fun with Filters"
   ],
   "metadata": {
    "id": "pE2wbhyYjz2Y"
   }
  },
  {
   "cell_type": "code",
   "source": [
    "#@title Part 1.1: Finite Difference Operator\n",
    "\n",
    "threshold = 0.23\n",
    "\n",
    "im = read_image('code/data/cameraman.jpg')[:, :, 0]\n",
    "\n",
    "Dx = np.array([[1.], [-1.]])\n",
    "Dy = np.array([[1., -1.]])\n",
    "\n",
    "Dim_Dx = sc.signal.convolve2d(im, Dx, mode='same')\n",
    "Dim_Dy = sc.signal.convolve2d(im, Dy, mode='same')\n",
    "\n",
    "print('Finite difference with respect to x')\n",
    "skio.imshow(Dim_Dx)\n",
    "skio.show()\n",
    "\n",
    "print('Finite difference with respect to y')\n",
    "skio.imshow(Dim_Dy)\n",
    "skio.show()\n",
    "\n",
    "print('Gradient magnitude')\n",
    "edge_im = np.linalg.norm(np.stack([Dim_Dx, Dim_Dy]), axis=0)\n",
    "skio.imshow(edge_im)\n",
    "skio.show()\n",
    "\n",
    "print('Binary gradient magnitude')\n",
    "binary_edge_im = edge_im > threshold\n",
    "skio.imshow(binary_edge_im)\n",
    "skio.show()"
   ],
   "metadata": {
    "id": "m9YGaSNrj4Hn",
    "colab": {
     "base_uri": "https://localhost:8080/",
     "height": 1000
    },
    "executionInfo": {
     "status": "ok",
     "timestamp": 1694863838359,
     "user_tz": 420,
     "elapsed": 3942,
     "user": {
      "displayName": "Wentinn Liao",
      "userId": "16122904268462266963"
     }
    },
    "outputId": "6ee908d7-84cf-4046-b333-7b5babbca6fb",
    "pycharm": {
     "is_executing": true
    }
   },
   "execution_count": null,
   "outputs": []
  },
  {
   "cell_type": "code",
   "source": [
    "#@title Part 1.2: Derivative of Gaussian (DoG) Filter\n",
    "\n",
    "threshold = 0.1\n",
    "\n",
    "im = read_image('code/data/cameraman.png')[:, :, 0]\n",
    "\n",
    "Dx = np.array([[1.], [-1.]])\n",
    "Dy = np.array([[1., -1.]])\n",
    "G = (G := cv2.getGaussianKernel(8, 1)) @ G.T\n",
    "\n",
    "# Separate Convolutions\n",
    "blurred_im = sc.signal.convolve2d(im, G, mode='same')\n",
    "\n",
    "Dblurred_im_Dx = sc.signal.convolve2d(blurred_im, Dx, mode='same')\n",
    "Dblurred_im_Dy = sc.signal.convolve2d(blurred_im, Dy, mode='same')\n",
    "\n",
    "print('Edges as gradient magnitude of blurred image')\n",
    "edge_blurred_im = np.linalg.norm(np.stack([Dblurred_im_Dx, Dblurred_im_Dy]), axis=0)\n",
    "skio.imshow(edge_blurred_im)\n",
    "skio.show()\n",
    "\n",
    "print('Binary separate convolutions')\n",
    "binary_edge_blurred_im = edge_blurred_im > threshold\n",
    "skio.imshow(binary_edge_blurred_im)\n",
    "skio.show()\n",
    "\n",
    "# Single Convolution\n",
    "DxG = sc.signal.convolve2d(G, Dx, mode='same')\n",
    "DyG = sc.signal.convolve2d(G, Dy, mode='same')\n",
    "\n",
    "Dim_DxG = sc.signal.convolve2d(im, DxG, mode='same')\n",
    "Dim_DyG = sc.signal.convolve2d(im, DyG, mode='same')\n",
    "\n",
    "print('Edges as DoG of image')\n",
    "edge_blurred_im2 = np.linalg.norm(np.stack([Dim_DxG, Dim_DyG]), axis=0)\n",
    "skio.imshow(edge_blurred_im2)\n",
    "skio.show()\n",
    "\n",
    "print('Binary single convolutions')\n",
    "binary_edge_blurred_im2 = edge_blurred_im2 > threshold\n",
    "skio.imshow(binary_edge_blurred_im2)\n",
    "skio.show()"
   ],
   "metadata": {
    "id": "Jv56Cd309JrE",
    "colab": {
     "base_uri": "https://localhost:8080/",
     "height": 1000
    },
    "executionInfo": {
     "status": "ok",
     "timestamp": 1694863844954,
     "user_tz": 420,
     "elapsed": 1902,
     "user": {
      "displayName": "Wentinn Liao",
      "userId": "16122904268462266963"
     }
    },
    "outputId": "d46ff28b-6715-4226-aec3-74d08b1f50e9",
    "pycharm": {
     "is_executing": true
    }
   },
   "execution_count": null,
   "outputs": []
  },
  {
   "cell_type": "markdown",
   "source": [
    "# Part 2: Fun with Frequencies!"
   ],
   "metadata": {
    "id": "XEfvrxXckaUv"
   }
  },
  {
   "cell_type": "code",
   "source": [
    "#@title Part 2.1: Image \"Sharpening\"\n",
    "\n",
    "sharpening = 1\n",
    "images = [\n",
    "    'taj.jpg',\n",
    "    'genki 1.jpg',\n",
    "    'hadelich.jpg',\n",
    "    'benny.jpg'\n",
    "]\n",
    "\n",
    "G = (G := cv2.getGaussianKernel(7, 1)) @ G.T\n",
    "I = (v := np.array([[0., 0., 0., 1., 0., 0., 0.]])).T @ v\n",
    "S = (I + sharpening * (I - G))[:, :, None]\n",
    "\n",
    "for image in images:\n",
    "    print(f'Original {image}')\n",
    "    im = read_image(f'code/data/{image}')\n",
    "    skio.imshow(im)\n",
    "    skio.show()\n",
    "\n",
    "    print(f'Sharpened {image}')\n",
    "    sharpened_im = np.clip(sc.signal.convolve(im, S, mode='same'), 0, 1)\n",
    "    skio.imshow(sharpened_im)\n",
    "    skio.show()\n",
    "\n",
    "    skio.imsave(f'images/Sharpened {image}', sk.img_as_ubyte(sharpened_im), quality=100)"
   ],
   "metadata": {
    "id": "KubJLarXlrlS",
    "colab": {
     "base_uri": "https://localhost:8080/",
     "height": 1000,
     "output_embedded_package_id": "1jpYzZceZYRkM6imKlqH1wYzHjeUOzFeD"
    },
    "executionInfo": {
     "status": "ok",
     "timestamp": 1694863865245,
     "user_tz": 420,
     "elapsed": 15577,
     "user": {
      "displayName": "Wentinn Liao",
      "userId": "16122904268462266963"
     }
    },
    "outputId": "0366fe1d-23c7-4c0f-b20b-4ca8d78b7727",
    "pycharm": {
     "is_executing": true
    }
   },
   "execution_count": null,
   "outputs": []
  },
  {
   "cell_type": "code",
   "source": [
    "print(f'Original image')\n",
    "im = read_image(f'code/data/genki 2.jpg')\n",
    "skio.imshow(im)\n",
    "skio.show()\n",
    "\n",
    "print('Blurred and resharpened image')\n",
    "blurred_im = sc.signal.convolve(im, G[:, :, None], mode='same')\n",
    "resharpened_im = np.clip(sc.signal.convolve(blurred_im, S, mode='same'), 0, 1)\n",
    "skio.imshow(resharpened_im)\n",
    "skio.show()\n",
    "\n",
    "print((np.linalg.norm(im - resharpened_im) ** 2) / np.prod(im.shape))"
   ],
   "metadata": {
    "id": "MR6wT6SkCD0C",
    "colab": {
     "base_uri": "https://localhost:8080/",
     "height": 1000
    },
    "executionInfo": {
     "status": "ok",
     "timestamp": 1694854377390,
     "user_tz": 420,
     "elapsed": 2384,
     "user": {
      "displayName": "Wentinn Liao",
      "userId": "16122904268462266963"
     }
    },
    "outputId": "c15702e5-c602-47cd-987f-4237d020b486",
    "pycharm": {
     "is_executing": true
    }
   },
   "execution_count": null,
   "outputs": []
  },
  {
   "cell_type": "markdown",
   "source": [
    "## Note: Part 2.2 does not run on Colab because pop-up/interactive windows are disabled"
   ],
   "metadata": {
    "id": "XC3cVA8O09X1"
   }
  },
  {
   "cell_type": "code",
   "source": [
    "#@title Part 2.2: Hybrid Images\n",
    "import hybrid_python.align_image_code as lib\n",
    "\n",
    "im_pairs = [\n",
    "    ['code/data/joy.jpg', 'code/data/genki 1.jpg', 18],\n",
    "    ['code/data/eddy chen.jpg', 'code/data/brett yang.jpg', 9],\n",
    "    ['code/data/miyu 1.jpg', 'code/data/miyu 2.jpg', 50],\n",
    "    ['code/data/wengenn.jpg', 'code/data/dad.jpg', 20]\n",
    "]\n",
    "\n",
    "for im1name, im2name, sigma in im_pairs:\n",
    "    %matplotlib osx\n",
    "    im1, im2 = lib.align_images(read_image(im1name), read_image(im2name))\n",
    "\n",
    "    %matplotlib inline\n",
    "    k = max(int(3 * sigma), 3)\n",
    "    G = (G := cv2.getGaussianKernel(2 * k + 1, sigma)) @ G.T\n",
    "\n",
    "    v = np.zeros((2 * k + 1, 1), dtype=float)\n",
    "    v[k] = 1.\n",
    "    H = v @ v.T - G\n",
    "\n",
    "    high_frequency_im1 = sc.signal.convolve(im1, H[:, :, None], mode='same')\n",
    "    low_frequency_im2 = sc.signal.convolve(im2, G[:, :, None], mode='same')\n",
    "\n",
    "    print(f'High frequency {im1name}')\n",
    "    skio.imshow(np.log(np.abs(np.fft.fftshift(np.fft.fft2(high_frequency_im1)))))\n",
    "    skio.show()\n",
    "\n",
    "    print(f'Low frequency {im2name}')\n",
    "    skio.imshow(np.log(np.abs(np.fft.fftshift(np.fft.fft2(low_frequency_im2)))))\n",
    "    skio.show()\n",
    "\n",
    "    print('Hybrid image')\n",
    "    hybrid_im = np.clip(high_frequency_im1 + low_frequency_im2, 0, 1)\n",
    "    skio.imshow(hybrid_im)\n",
    "    skio.show()"
   ],
   "metadata": {
    "id": "9wOECiIidchH",
    "colab": {
     "base_uri": "https://localhost:8080/",
     "height": 596
    },
    "executionInfo": {
     "status": "error",
     "timestamp": 1694854377391,
     "user_tz": 420,
     "elapsed": 12,
     "user": {
      "displayName": "Wentinn Liao",
      "userId": "16122904268462266963"
     }
    },
    "outputId": "6aca2958-76f5-47f8-b0e5-35689fe22afc",
    "pycharm": {
     "is_executing": true
    }
   },
   "execution_count": null,
   "outputs": []
  },
  {
   "cell_type": "code",
   "source": [
    "#@title Part 2.3: Gaussian and Laplacian Stacks\n",
    "\n",
    "def gaussian_stack(im, depth=8, sigma=1):\n",
    "    gaussian_stack = [im]\n",
    "    for _ in range(depth):\n",
    "        k = int(math.ceil(3 * sigma))\n",
    "        G = ((G := cv2.getGaussianKernel(2 * k + 1, sigma)) @ G.T)[:, :, None]\n",
    "\n",
    "        gaussian_stack.append(sc.signal.convolve(gaussian_stack[-1], G, mode='same'))\n",
    "        sigma *= 2\n",
    "    return gaussian_stack\n",
    "\n",
    "def gaussian_and_laplacian_stack(im, depth=8, sigma=1):\n",
    "    gaussian_stack, laplacian_stack = [im], []\n",
    "    for _ in range(depth + 1):\n",
    "        k = int(math.ceil(3 * sigma))\n",
    "        G = ((G := cv2.getGaussianKernel(2 * k + 1, sigma)) @ G.T)[:, :, None]\n",
    "\n",
    "        gaussian_stack.append(sc.signal.convolve(gaussian_stack[-1], G, mode='same'))\n",
    "        laplacian_stack.append(gaussian_stack[-2] - gaussian_stack[-1])\n",
    "\n",
    "        sigma *= 2\n",
    "    gaussian_stack.pop()\n",
    "    return gaussian_stack, laplacian_stack\n",
    "\n",
    "def blend(im1, im2, mask, im1name=None, im2name=None, depth=8, sigma=1):\n",
    "    mask_gaussian_stack = gaussian_stack(mask, depth=depth)\n",
    "\n",
    "    im1_gaussian_stack, im1_laplacian_stack = gaussian_and_laplacian_stack(im1, depth=depth)\n",
    "    im2_gaussian_stack, im2_laplacian_stack = gaussian_and_laplacian_stack(im2, depth=depth)\n",
    "\n",
    "    blend_stack = []\n",
    "    for d in range(depth + 1):\n",
    "        l1, l2 = im1_laplacian_stack[d], im2_laplacian_stack[d]\n",
    "        mask = mask_gaussian_stack[d]\n",
    "\n",
    "        masked_l1, masked_l2 = mask * l1, (1 - mask) * l2\n",
    "        blend_stack.append(blend := masked_l1 + masked_l2)\n",
    "\n",
    "        im_to_save = im_rescale(np.concatenate([l1, masked_l1, blend, masked_l2, l2], axis=1))\n",
    "        if im1name is not None and im2name is not None:\n",
    "            skio.imsave(f'images/{im1name}+{im2name} frequency blend depth {d}.png', sk.img_as_ubyte(im_to_save))\n",
    "        skio.imshow(im_to_save)\n",
    "        skio.show()\n",
    "\n",
    "    blended_im = np.clip(np.sum(blend_stack, axis=0), 0, 1)\n",
    "    skio.imshow(np.concatenate([im1, blended_im, im2], axis=1))\n",
    "    skio.show()\n",
    "\n",
    "    return blended_im"
   ],
   "metadata": {
    "id": "POFY34hb1MYB",
    "executionInfo": {
     "status": "ok",
     "timestamp": 1694859418150,
     "user_tz": 420,
     "elapsed": 7,
     "user": {
      "displayName": "Wentinn Liao",
      "userId": "16122904268462266963"
     }
    }
   },
   "execution_count": 51,
   "outputs": []
  },
  {
   "cell_type": "code",
   "source": [
    "im1 = read_image('code/spline/apple.jpeg')\n",
    "im2 = read_image('code/spline/orange.jpeg')\n",
    "\n",
    "h, w, c = im1.shape\n",
    "mask = np.concatenate([np.ones((h, int(math.floor(w / 2)), c)), np.zeros((h, int(math.ceil(w / 2)), c))], axis=1)\n",
    "\n",
    "blended_im = blend(im1, im2, mask, 'apple', 'orange')"
   ],
   "metadata": {
    "colab": {
     "base_uri": "https://localhost:8080/",
     "height": 1000
    },
    "id": "T6Th5KbxIFKh",
    "executionInfo": {
     "status": "ok",
     "timestamp": 1694859425271,
     "user_tz": 420,
     "elapsed": 7125,
     "user": {
      "displayName": "Wentinn Liao",
      "userId": "16122904268462266963"
     }
    },
    "outputId": "ddfb4d29-8529-4320-dae0-7157bad9fc68",
    "pycharm": {
     "is_executing": true
    }
   },
   "execution_count": null,
   "outputs": []
  },
  {
   "cell_type": "code",
   "source": [
    "#@title Part 2.4: Multiresolution Blending (a.k.a. the oraple!)\n",
    "\n",
    "rescale_factor = 0.4\n",
    "miyu_mask = np.round(sktr.rescale(read_image('code/data/miyu face mask.png')[:, :, :-1], rescale_factor, channel_axis=-1))\n",
    "dad_snacks = sktr.rescale(read_image('code/data/padded dad snacks.jpg'), rescale_factor, channel_axis=-1)\n",
    "miyu = sktr.rescale(read_image('code/data/padded miyu face.jpg'), rescale_factor, channel_axis=-1)\n",
    "\n",
    "miyu_snacks = blend(dad_snacks, miyu, miyu_mask, im1name='Dad Snacks', im2name='Miyu', depth=10, sigma=1.5)\n",
    "skio.imshow(miyu_snacks)\n",
    "skio.show()\n",
    "\n",
    "skio.imsave('images/Miyu Snacks.png', sk.img_as_ubyte(miyu_snacks))"
   ],
   "metadata": {
    "id": "jVuKP0vQLD7l",
    "colab": {
     "base_uri": "https://localhost:8080/",
     "height": 1000
    },
    "outputId": "fcacf8c0-292d-48f2-92a0-1636a30ef54b",
    "pycharm": {
     "is_executing": true
    }
   },
   "execution_count": null,
   "outputs": []
  },
  {
   "cell_type": "code",
   "source": [
    "rescale_factor=0.5\n",
    "\n",
    "aurora = sktr.rescale(read_image('code/data/aurora.jpg'), rescale_factor, channel_axis=-1)\n",
    "night = sktr.rescale(read_image('code/data/starry night.jpg')[1:-1], rescale_factor, channel_axis=-1)\n",
    "\n",
    "h, w, c = aurora.shape\n",
    "mask = np.concatenate([np.ones((int(math.floor(h / 2)), w, c)), np.zeros((int(math.ceil(h / 2)), w, c))], axis=0)\n",
    "\n",
    "aurora_night = blend(aurora, night, mask, 'Aurora', 'Starry Night', depth=10, sigma=2)\n",
    "\n",
    "skio.imshow(aurora_night)\n",
    "skio.show()\n",
    "\n",
    "skio.imsave('images/Aurora Night.png', sk.img_as_ubyte(aurora_night))"
   ],
   "metadata": {
    "colab": {
     "base_uri": "https://localhost:8080/",
     "height": 1000
    },
    "id": "sijR6KT3VY7L",
    "executionInfo": {
     "status": "ok",
     "timestamp": 1694863651066,
     "user_tz": 420,
     "elapsed": 34289,
     "user": {
      "displayName": "Wentinn Liao",
      "userId": "16122904268462266963"
     }
    },
    "outputId": "d836d1a7-2817-4bf4-d406-d260ebcae07b",
    "pycharm": {
     "is_executing": true
    }
   },
   "execution_count": null,
   "outputs": []
  },
  {
   "cell_type": "code",
   "source": [
    "rescale_factor = 0.4\n",
    "joy_mask = np.round(sktr.rescale(read_image('code/data/joy face mask.png')[:, :, :-1], rescale_factor, channel_axis=-1))\n",
    "school = sktr.rescale(read_image('code/data/school.jpg'), rescale_factor, channel_axis=-1)\n",
    "joy = sktr.rescale(read_image('code/data/padded joy face.png')[:, :, :-1], rescale_factor, channel_axis=-1)\n",
    "\n",
    "school_joy = blend(school, joy, joy_mask, im1name='School', im2name='Joy', depth=10, sigma=1.5)\n",
    "skio.imshow(school_joy)\n",
    "skio.show()\n",
    "\n",
    "skio.imsave('images/School Joy.png', sk.img_as_ubyte(school_joy))"
   ],
   "metadata": {
    "id": "a2bbyismYEkY",
    "colab": {
     "base_uri": "https://localhost:8080/",
     "height": 1000
    },
    "executionInfo": {
     "status": "ok",
     "timestamp": 1694863616780,
     "user_tz": 420,
     "elapsed": 63275,
     "user": {
      "displayName": "Wentinn Liao",
      "userId": "16122904268462266963"
     }
    },
    "outputId": "7315ef09-a57e-48be-d15b-20017947b897",
    "pycharm": {
     "is_executing": true
    }
   },
   "execution_count": null,
   "outputs": []
  },
  {
   "cell_type": "code",
   "source": [],
   "metadata": {
    "id": "6vWI4FZ0rVgx",
    "executionInfo": {
     "status": "ok",
     "timestamp": 1694859570776,
     "user_tz": 420,
     "elapsed": 4,
     "user": {
      "displayName": "Wentinn Liao",
      "userId": "16122904268462266963"
     }
    }
   },
   "execution_count": 55,
   "outputs": []
  }
 ],
 "metadata": {
  "colab": {
   "provenance": [
    {
     "file_id": "1lcHhNw_r_eetYfC5dd7wEm_Cgw7yytr7",
     "timestamp": 1693440611113
    },
    {
     "file_id": "1q9Qx12ZP6MjTkUXpm6XF0Tw68M9eUD0c",
     "timestamp": 1693268309398
    }
   ],
   "machine_shape": "hm"
  },
  "kernelspec": {
   "display_name": "Python 3",
   "name": "python3"
  },
  "language_info": {
   "name": "python"
  }
 },
 "nbformat": 4,
 "nbformat_minor": 0
}